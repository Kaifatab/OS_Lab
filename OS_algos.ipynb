{
  "nbformat": 4,
  "nbformat_minor": 0,
  "metadata": {
    "colab": {
      "provenance": []
    },
    "kernelspec": {
      "name": "python3",
      "display_name": "Python 3"
    },
    "language_info": {
      "name": "python"
    }
  },
  "cells": [
    {
      "cell_type": "markdown",
      "source": [
        "#**Banker's Algorithm**"
      ],
      "metadata": {
        "id": "xdLHva1XASZ5"
      }
    },
    {
      "cell_type": "code",
      "source": [
        "alloc = [[0,1,0],[2,0,0],[3,0,2],[2,1,1],[0,0,2]]\n",
        "max = [[7,5,3],[3,2,2],[9,0,2],[2,2,2],[4,3,3]]\n",
        "avail = [3,3,2]\n",
        "\n",
        "n = 5 #no. of process\n",
        "m = 3 #resource type\n",
        "\n",
        "f = [0]*n\n",
        "ans = [0]*n\n",
        "idx = 0\n",
        "\n",
        "need = [[0 for i in range(m)]for i in range(n)]\n",
        "\n",
        "for i in range(n):\n",
        "  for j in range(m):\n",
        "    need[i][j] = max[i][j] - alloc[i][j]\n",
        "\n",
        "y=0\n",
        "for k in range(n):\n",
        "  for i in range(n):\n",
        "    if(f[i]==0):\n",
        "      flag = 0\n",
        "      for j in range(m):\n",
        "        if(need[i][j]>avail[j]):\n",
        "          flag = 1\n",
        "          break\n",
        "\n",
        "      if(flag == 0):\n",
        "        ans[idx] = i\n",
        "        idx += 1\n",
        "        for y in range(m):\n",
        "          avail[y] += alloc[i][y]\n",
        "        f[i] = 1\n",
        "\n",
        "\n",
        "print(\"Following is the safe sequence:\")\n",
        "for i in range(n):\n",
        "       print(\"p\",ans[i],\" \")\n",
        "\n",
        "\n"
      ],
      "metadata": {
        "colab": {
          "base_uri": "https://localhost:8080/"
        },
        "id": "XFYIYbX0AaRH",
        "outputId": "4fdb2936-71d4-4705-928a-b22ca8606562"
      },
      "execution_count": null,
      "outputs": [
        {
          "output_type": "stream",
          "name": "stdout",
          "text": [
            "Following is the safe sequence:\n",
            "p 1  \n",
            "p 3  \n",
            "p 4  \n",
            "p 0  \n",
            "p 2  \n"
          ]
        }
      ]
    },
    {
      "cell_type": "markdown",
      "source": [
        "#**RoundRobin**"
      ],
      "metadata": {
        "id": "i3OLvsxDXUis"
      }
    },
    {
      "cell_type": "code",
      "source": [
        "n = 3\n",
        "q = 4\n",
        "\n",
        "f = open(\"input.txt\",'r')\n",
        "p=[]\n",
        "for line in f:\n",
        "    p.append(list(map(int,line.split())))\n",
        "\n",
        "f.close()       \n",
        "\n",
        "wt = [0]*n\n",
        "tt = [0]*n\n",
        "t = 0\n",
        "cnt = n\n",
        "rt = []\n",
        "avg_wt = 0\n",
        "avg_tt = 0\n",
        "\n",
        "for i in range(n):\n",
        "    rt.append(p[i][2])\n",
        "\n",
        "while cnt!=0:\n",
        "    i = 0\n",
        "    while i<n:\n",
        "        check = False\n",
        "        if(rt[i]<=q and rt[i]>0):\n",
        "            cnt = cnt-1\n",
        "            t = t+rt[i]\n",
        "            rt[i] = 0\n",
        "            check = True\n",
        "            wt[i] = t-p[i][1]-p[i][2]\n",
        "            tt[i] = t - p[i][1]\n",
        "            print(\"P\"+str(i+1))\n",
        "            if(cnt==0):\n",
        "                break\n",
        "        elif( rt[i]>0):    \n",
        "            rt[i] = rt[i]-q\n",
        "            t = t+q\n",
        "            check = True\n",
        "            print(\"P\"+str(i+1))\n",
        "        if(i==n-1):\n",
        "            i=0\n",
        "        elif(p[i+1][1]<=t)  :\n",
        "            i = i+1\n",
        "        else:\n",
        "            i=0  \n",
        "         \n",
        "f1 = open(\"Output.txt\",\"a\")\n",
        "s1 = \"PID     AT     BT     WT     TT\\n\"\n",
        "f1.write(s1)\n",
        "for i in range(n):\n",
        "    s2 =str(p[i][0])+\"\\t\\t\"+str(p[i][1])+\"\\t\\t\"+str(p[i][2])+\"\\t\\t\"+str(wt[i])+\"\\t\\t\"+str(tt[i])+\"\\n\"\n",
        "    f1.write(s2)\n",
        "    avg_wt += wt[i]\n",
        "    avg_tt += tt[i]\n",
        "\n",
        "s3 = \"Average waiting time:\"+str(avg_wt/n)+\"\\n\"\n",
        "f1.write(s3)\n",
        "s4 = \"Average turn around time:\"+str(avg_tt/n)+\"\\n\"\n",
        "f1.write(s4)    \n",
        "     \n",
        "f1.close()"
      ],
      "metadata": {
        "id": "zpPpEJ4hXbRW"
      },
      "execution_count": null,
      "outputs": []
    },
    {
      "cell_type": "markdown",
      "source": [
        "#***Shortest Job First***"
      ],
      "metadata": {
        "id": "K1JcbejwCC1C"
      }
    },
    {
      "cell_type": "code",
      "source": [
        "n = int(input(\"Enter the number of processes:\"))\n",
        "print(\"Enter the processId, BurstTime, ArrivalTime:\\nPID BT AT\")\n",
        "p=[]\n",
        "for i in range(n):\n",
        "    p.append(list(map(int,input().split())))\n",
        "\n",
        "print(p)\n",
        "\n",
        "complete = 0\n",
        "t = 0\n",
        "idx = -1\n",
        "check = [0]*n\n",
        "wt = [0]*n\n",
        "tat = [0]*n\n",
        "avg_wt = 0\n",
        "avg_tat = 0\n",
        "while(complete!=n):\n",
        "    mn = 999999\n",
        "    check = False\n",
        "    for i in range(n):\n",
        "        if(p[i][2]<=t and p[i][1]<mn and p[i][1]>0):\n",
        "            mn = p[i][1]\n",
        "            idx = i\n",
        "            check = True\n",
        "\n",
        "    if(check == False):\n",
        "        t = t+1\n",
        "        continue\n",
        "\n",
        "    t = t + p[idx][1]\n",
        "    \n",
        "\n",
        "    wt[idx] = t-p[idx][1]-p[idx][2]\n",
        "    tat[idx] = t - p[idx][2]\n",
        "\n",
        "    p[idx][1] = 0\n",
        "\n",
        "    complete += 1\n",
        "\n",
        "print(\"Pid      Bt      At      Wt      Tat\\n\")\n",
        "\n",
        "for idx in range(n):\n",
        "    print(p[idx][0],\"\\t\",p[idx][1],\"\\t\",p[idx][2],\"\\t\",wt[idx],\"\\t\",tat[idx])     \n",
        "                    \n",
        "for i in range(n):             \n",
        "    avg_tat += tat[i]\n",
        "    avg_wt += wt[i]\n",
        "\n",
        "\n",
        "print(\"Average Waiting time: \", avg_wt/n)   \n",
        "print(\"Average Turnaround time: \", avg_tat/n)                        "
      ],
      "metadata": {
        "colab": {
          "base_uri": "https://localhost:8080/"
        },
        "id": "LrioR0Z6CQWr",
        "outputId": "2d9a7fd7-8b21-40e6-8156-830ef731b318"
      },
      "execution_count": null,
      "outputs": [
        {
          "output_type": "stream",
          "name": "stdout",
          "text": [
            "Enter the number of processes:4\n",
            "Enter the processId, BurstTime, ArrivalTime:\n",
            "PID BT AT\n",
            "1 6 0\n",
            "2 8 0\n",
            "3 7 0\n",
            "4 3 0\n",
            "[[1, 6, 0], [2, 8, 0], [3, 7, 0], [4, 3, 0]]\n",
            "Pid      Bt      At      Wt      Tat\n",
            "\n",
            "1 \t 0 \t 0 \t 3 \t 9\n",
            "2 \t 0 \t 0 \t 16 \t 24\n",
            "3 \t 0 \t 0 \t 9 \t 16\n",
            "4 \t 0 \t 0 \t 0 \t 3\n",
            "Average Waiting time:  7.0\n",
            "Average Turnaround time:  13.0\n"
          ]
        }
      ]
    },
    {
      "cell_type": "markdown",
      "source": [
        "#**Shortest Remaining Job First Scheduling**"
      ],
      "metadata": {
        "id": "byBoXNwhdosu"
      }
    },
    {
      "cell_type": "code",
      "source": [
        "n = int(input(\"Enter the number of processes: \"))\n",
        "\n",
        "print(\"Enter the process id, burst time and arrival time respectively: \\npid bt at\")\n",
        "p=[]\n",
        "for i in range(n):\n",
        "  p.append(list(map(int,input().split())))\n",
        "\n",
        "print(p)\n",
        "\n",
        "#Finding waiting time--------------------------\n",
        "wt = [0]*n #waiting time\n",
        "rt = [0]*n #remaining burst time\n",
        "complete = 0 #number of completed task\n",
        "t = 0 #time instance\n",
        "idx = 0 #index of working process\n",
        "check = False\n",
        "mn = 999999\n",
        "ft = 0\n",
        "\n",
        "\n",
        "for i in range(n):     #setting burst time to remaining time\n",
        "    rt[i] = p[i][1]\n",
        "\n",
        "while(complete!=n):\n",
        "    for i in range (n):\n",
        "        if(p[i][2]<=t and rt[i]<mn and rt[i]>0):\n",
        "            mn = rt[i]\n",
        "            idx = i\n",
        "            check = True\n",
        "\n",
        "    if(check==False):\n",
        "        t = t+1\n",
        "        continue\n",
        "\n",
        "    #decrease remaining time by one\n",
        "    rt[idx] = rt[idx]-1   \n",
        "\n",
        "    print(\"time t\",t,\": \",p[idx][0])\n",
        "\n",
        "    #update minimum\n",
        "    mn = rt[idx]\n",
        "    if(mn==0):\n",
        "        mn = 999999\n",
        "\n",
        "    #if a process is completely executed\n",
        "    if(rt[idx]==0):\n",
        "        complete = complete + 1\n",
        "        check = False\n",
        "        ft = t+1 #finished time\n",
        "\n",
        "        wt[idx] = ft - p[idx][1] - p[idx][2]\n",
        "        if(wt[idx]<0):\n",
        "            wt[idx] = 0\n",
        "\n",
        "    t = t+1 \n",
        "\n",
        "\n",
        "#Finding TurnAround time -------------------------------\n",
        "tat = [0]*n\n",
        "for i in range(n):\n",
        "    tat[i] = wt[i] + p[i][1]    \n",
        "\n",
        "\n",
        "avg_tat = 0\n",
        "avg_wt = 0\n",
        "for i in range(n):             \n",
        "    avg_tat += tat[i]\n",
        "    avg_wt += wt[i]\n",
        "\n",
        "\n",
        "print(\"pid      bt     at      tat      wt\\n\")\n",
        "for i in range(n):\n",
        "    print(p[i][0], \"\\t\", p[i][1], \"\\t\", p[i][2],\"\\t\", tat[i],\"\\t\", wt[i])\n",
        "\n",
        "print(\"Average Waiting time: \", avg_wt/n)   \n",
        "print(\"Average Turnaround time: \", avg_tat/n)\n",
        "\n",
        "\n",
        "\n",
        "\n",
        "\n",
        "\n"
      ],
      "metadata": {
        "colab": {
          "base_uri": "https://localhost:8080/"
        },
        "id": "TCP1zadHR1x5",
        "outputId": "93dcd0ef-0bde-4fb6-cf35-6bcb90a19750"
      },
      "execution_count": null,
      "outputs": [
        {
          "output_type": "stream",
          "name": "stdout",
          "text": [
            "Enter the number of processes: 4\n",
            "Enter the process id, burst time and arrival time respectively: \n",
            "pid bt at\n",
            "1 12 0\n",
            "2 4 2\n",
            "3 6 3\n",
            "4 5 8\n",
            "[[1, 12, 0], [2, 4, 2], [3, 6, 3], [4, 5, 8]]\n",
            "time t 0 :  1\n",
            "time t 1 :  1\n",
            "time t 2 :  2\n",
            "time t 3 :  2\n",
            "time t 4 :  2\n",
            "time t 5 :  2\n",
            "time t 6 :  3\n",
            "time t 7 :  3\n",
            "time t 8 :  3\n",
            "time t 9 :  3\n",
            "time t 10 :  3\n",
            "time t 11 :  3\n",
            "time t 12 :  4\n",
            "time t 13 :  4\n",
            "time t 14 :  4\n",
            "time t 15 :  4\n",
            "time t 16 :  4\n",
            "time t 17 :  1\n",
            "time t 18 :  1\n",
            "time t 19 :  1\n",
            "time t 20 :  1\n",
            "time t 21 :  1\n",
            "time t 22 :  1\n",
            "time t 23 :  1\n",
            "time t 24 :  1\n",
            "time t 25 :  1\n",
            "time t 26 :  1\n",
            "pid      bt     at      tat      wt\n",
            "\n",
            "1 \t 12 \t 0 \t 27 \t 15\n",
            "2 \t 4 \t 2 \t 4 \t 0\n",
            "3 \t 6 \t 3 \t 9 \t 3\n",
            "4 \t 5 \t 8 \t 9 \t 4\n",
            "Average Waiting time:  5.5\n",
            "Average Turnaround time:  12.25\n"
          ]
        }
      ]
    },
    {
      "cell_type": "markdown",
      "source": [
        "#**First Come First Service**"
      ],
      "metadata": {
        "id": "uYeWmAcXtsWJ"
      }
    },
    {
      "cell_type": "code",
      "execution_count": null,
      "metadata": {
        "colab": {
          "base_uri": "https://localhost:8080/"
        },
        "id": "glbO-IjKDHwM",
        "outputId": "a9548553-7e99-46f8-ea72-bbb1691886f4"
      },
      "outputs": [
        {
          "output_type": "stream",
          "name": "stdout",
          "text": [
            "Enter the number of processes: 5\n",
            "Enter the process id, arrival time and burst time respectively: \n",
            "pid A.t B.t\n",
            "1 4 5\n",
            "2 6 4\n",
            "3 0 3\n",
            "4 6 2\n",
            "5 5 4\n",
            "[[1, 4, 5], [2, 6, 4], [3, 0, 3], [4, 6, 2], [5, 5, 4]]\n",
            "[[3, 0, 3], [1, 4, 5], [5, 5, 4], [4, 6, 2], [2, 6, 4]]\n",
            "[[3, 0, 3, 3], [1, 4, 5, 9], [5, 5, 4, 13], [4, 6, 2, 15], [2, 6, 4, 19]]\n",
            "pid AT BT CT TAT WT\n",
            "3 0 3 3 3 0\n",
            "1 4 5 9 5 0\n",
            "5 5 4 13 8 4\n",
            "4 6 2 15 9 7\n",
            "2 6 4 19 13 9\n",
            "Average turn around time is: 7.6\n",
            "Average waiting time is: 4.0\n"
          ]
        }
      ],
      "source": [
        "n = int(input(\"Enter the number of processes: \"))\n",
        "\n",
        "print(\"Enter the process id, arrival time and burst time respectively: \\npid A.t B.t\")\n",
        "l = []\n",
        "for i in range(n):\n",
        "  l.append(list(map(int,input().split())))\n",
        "\n",
        "print(l)\n",
        "\n",
        "for i in range(n):\n",
        "  for j in range(i+1, n):\n",
        "    if l[j][1]<l[i][1]:\n",
        "      l[i],l[j]=l[j],l[i]\n",
        "\n",
        "print(l)\n",
        "\n",
        "ct = 0\n",
        "i = 0\n",
        "while i<n:\n",
        "  if ct>=l[i][1]:\n",
        "    ct += l[i][2]\n",
        "    l[i].append(ct)\n",
        "    i = i+1\n",
        "  else:\n",
        "    ct += 1\n",
        "\n",
        "print(l)\n",
        "\n",
        "tat = 0\n",
        "wt = 0\n",
        "print(\"pid\",\"AT\",\"BT\",\"CT\",\"TAT\",\"WT\")\n",
        "for i in range(n):\n",
        "  print(l[i][0],l[i][1],l[i][2],l[i][3],l[i][3]-l[i][1],l[i][3]-l[i][1]-l[i][2])\n",
        "  tat +=  l[i][3]-l[i][1]\n",
        "  wt +=  l[i][3]-l[i][1]-l[i][2]     \n",
        "\n",
        "print(\"Average turn around time is:\",tat/n)\n",
        "print(\"Average waiting time is:\",wt/n)"
      ]
    }
  ]
}